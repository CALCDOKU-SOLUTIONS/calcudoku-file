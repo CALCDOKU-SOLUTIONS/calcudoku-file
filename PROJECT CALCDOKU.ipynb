{
 "cells": [
  {
   "cell_type": "code",
   "execution_count": 1,
   "metadata": {},
   "outputs": [
    {
     "name": "stdout",
     "output_type": "stream",
     "text": [
      "diag_sum: 13, solution_data: ((2, 4, 1, 3), (4, 3, 2, 1), (3, 1, 4, 2), (1, 2, 3, 4))\n"
     ]
    }
   ],
   "source": [
    "import itertools\n",
    "\n",
    "def check_conditions(in_data):\n",
    "    \"\"\"\n",
    "    Verifies, if in_data (storing only the first n-rows) satisfies\n",
    "    the \"arithmetic\" conditions of the puzzle\n",
    "    https://brilliant.org/daily-problems/calcdoku-10/\n",
    "    (for which only the first n-rows are needed).\n",
    "    If the input data has the size n, it assumes,\n",
    "    that the result of this function for the first n-1 \"rows\" was True.\n",
    "    \"\"\"\n",
    "    res = True\n",
    "    if len(in_data) == 2:\n",
    "        if in_data[1][0]+in_data[0][0]+in_data[0][1] != 10:\n",
    "            res = False\n",
    "        elif in_data[0][2]+in_data[0][3]+in_data[1][3] != 5:\n",
    "            res = False\n",
    "    elif len(in_data) == 3:\n",
    "        if in_data[1][1]+in_data[1][2]+in_data[2][1]+in_data[2][2] != 10:\n",
    "            res = False\n",
    "    elif len(in_data) == 4:\n",
    "        if in_data[2][0]+in_data[3][0]+in_data[3][1] != 6:\n",
    "            res = False\n",
    "        elif in_data[3][2]+in_data[3][3]+in_data[2][3] != 9:\n",
    "            res = False\n",
    "    return res\n",
    "\n",
    "def gen_solution(in_size, in_check_arithmetic_cond):\n",
    "    \"\"\"\n",
    "    generates all Latin squares of the order in_size, which\n",
    "    satisfy the additional conditions described in in_check_arithmetic_cond\n",
    "    \"\"\"\n",
    "    def are_all_different(in_list):\n",
    "        \"\"\"\n",
    "        checks if all of the entries in in_list are different\n",
    "        \"\"\"\n",
    "        return len(set(in_list)) == len(in_list)\n",
    "    def add_row(cur_row_data):\n",
    "        if len(cur_row_data) == in_size:\n",
    "            yield tuple(cur_row_data)\n",
    "        else:\n",
    "            for tmp_row in itertools.permutations(range(1, in_size+1)):\n",
    "                tmp_row_data = cur_row_data.copy()\n",
    "                tmp_row_data.append(tmp_row)\n",
    "                for col_num in range(in_size):\n",
    "                    cur_col = [tmp_row_data[_][col_num] for _ in range(len(tmp_row_data))]\n",
    "                    if not are_all_different(cur_col):\n",
    "                        break\n",
    "                else:\n",
    "                    if in_check_arithmetic_cond(tmp_row_data):\n",
    "                        for _ in add_row(tmp_row_data):\n",
    "                            yield _\n",
    "    for _ in add_row([]):\n",
    "        yield _\n",
    "\n",
    "for cur_sol in gen_solution(4, check_conditions):\n",
    "    diag_sum = sum(cur_sol[_][_] for _ in range(4))\n",
    "    print(f\"diag_sum: {diag_sum}, solution_data: {cur_sol}\")"
   ]
  },
  {
   "cell_type": "code",
   "execution_count": null,
   "metadata": {},
   "outputs": [],
   "source": []
  }
 ],
 "metadata": {
  "kernelspec": {
   "display_name": "Python 3",
   "language": "python",
   "name": "python3"
  },
  "language_info": {
   "codemirror_mode": {
    "name": "ipython",
    "version": 3
   },
   "file_extension": ".py",
   "mimetype": "text/x-python",
   "name": "python",
   "nbconvert_exporter": "python",
   "pygments_lexer": "ipython3",
   "version": "3.7.4"
  }
 },
 "nbformat": 4,
 "nbformat_minor": 2
}
